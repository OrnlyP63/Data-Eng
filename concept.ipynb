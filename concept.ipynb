{
 "cells": [
  {
   "cell_type": "markdown",
   "id": "fe54d364",
   "metadata": {},
   "source": [
    "# Why are Python programs slow?\n",
    "\n",
    "* For **compiled** programming languages, the  translation is done by a compiler before the execution of the program \n",
    "* For **interpreted** languages, the translation is done by an interpreter during the execution of the program\n",
    "\n",
    "Python is an interpreted language, and many features that make development rapid with Python are a result of that, with the price of reduced performance in some cases."
   ]
  },
  {
   "cell_type": "markdown",
   "id": "7330a94c",
   "metadata": {},
   "source": [
    "## Dynamic typing\n",
    "\n",
    "Python is a very dynamic language. As variables get type only during the runtime as values (Python objects) are assigned to them, it is more difficult for the interpreter to optimize the execution (in comparison, a compiler can make extensive analysis and optimization before the execution)."
   ]
  },
  {
   "cell_type": "markdown",
   "id": "43a7570c",
   "metadata": {},
   "source": [
    "## Flexible data structures\n",
    "\n",
    "The built-in data structures of Python, such as lists and dictionaries, are very flexible, but they are also very generic, which makes them not so well suited for extensive numerical computations. Actually, the implementation of the data structures (e.g. in the standard CPython interpreter)"
   ]
  },
  {
   "cell_type": "markdown",
   "id": "8ecba4c1",
   "metadata": {},
   "source": [
    "## Multithreading\n",
    "\n",
    "The performance of a single CPU core has stagnated over the last ten years, and as such most of the speed-up in modern CPUs is coming from using multiple CPU cores, i.e. parallel processing. Parallel processing is normally based either on multiple threads or multiple processes. \n",
    "\n",
    "Unfortunately, the memory management of the standard CPython interpreter is not thread-safe, and it uses something called Global Interpreter Lock (GIL) to safeguard memory integrity."
   ]
  },
  {
   "cell_type": "markdown",
   "id": "4615eb13",
   "metadata": {},
   "source": [
    "# Where program spends time?\n",
    "\n",
    "One should try to optimize the program. It is very typical that a program spents most of the time only in a small part of the program as exemplified by the **common 90/10 rule: 90% of time is spent in 10% of the source code.**\n",
    "\n",
    "Thus, it is clear that when optimizing one should focus only in the time-critical parts of the program.\n",
    "\n",
    "How to find these hotspots is the task of performance analysis. The two main ways to analyze performance are via **applications own timers**, which measure the time spent in specific region of a program, or by utilizing special **performance analysis** software.\n",
    "\n",
    "Performance analysis software can often include information about hardware counters such as **floating pointer operations per second, memory access, cache hits and misses etc.** In the end of this activity we look at some **Python specific tools.**"
   ]
  },
  {
   "cell_type": "markdown",
   "id": "9fa614bd",
   "metadata": {},
   "source": [
    "# Using applications own timers\n",
    "\n",
    "In order to get a bigger picture of the performance of a program, it can be useful to measure the time spent in a specific region of the program. The region can be a function, or just a part of a function, and the region can contain calls to other functions. In a typical usage pattern one obtains a value from some “clock”"
   ]
  },
  {
   "cell_type": "code",
   "execution_count": 1,
   "id": "43f9fb2f",
   "metadata": {},
   "outputs": [
    {
     "name": "stdout",
     "output_type": "stream",
     "text": [
      "Time spent 0.5625\n"
     ]
    }
   ],
   "source": [
    "from math import exp, sin\n",
    "import time\n",
    "\n",
    "def calculate(a):\n",
    "    result = 0\n",
    "    for val in a:\n",
    "        result += exp(val) * sin(val)\n",
    "    return result\n",
    "\n",
    "x = [0.1 * i for i in range(1000)]\n",
    "t0 = time.process_time()\n",
    "for r in range(1000):\n",
    "    calculate(x)\n",
    "t1 = time.process_time()\n",
    "print(\"Time spent\", t1 - t0)"
   ]
  },
  {
   "cell_type": "markdown",
   "id": "2aa7625a",
   "metadata": {},
   "source": [
    "## timing with a context manager\n",
    "\n",
    "Python context managers provide a nice feature for executing functions when entering and exiting a region. The example below shows how one can utilize a context manager and the with statement for timing a part of a code."
   ]
  },
  {
   "cell_type": "code",
   "execution_count": 2,
   "id": "b7127069",
   "metadata": {},
   "outputs": [
    {
     "name": "stdout",
     "output_type": "stream",
     "text": [
      "Time spent 0.671875\n"
     ]
    }
   ],
   "source": [
    "from math import exp, sin\n",
    "import time\n",
    "\n",
    "class Timer:\n",
    "    def __enter__(self):\n",
    "        self.start = time.process_time()\n",
    "        return self\n",
    "\n",
    "    def __exit__(self, *args):\n",
    "        self.end = time.process_time()\n",
    "        self.interval = self.end - self.start\n",
    "\n",
    "def calculate(a):\n",
    "    result = 0\n",
    "    for val in a:\n",
    "        result += exp(val) * sin(val)\n",
    "    return result\n",
    "\n",
    "x = [0.1 * i for i in range(1000)]\n",
    "with Timer() as t:\n",
    "    for r in range(1000):\n",
    "        calculate(x)\n",
    "print(\"Time spent\", t.interval)"
   ]
  },
  {
   "cell_type": "markdown",
   "id": "b3114b74",
   "metadata": {},
   "source": [
    "## Measuring small code snippets with timeit"
   ]
  },
  {
   "cell_type": "code",
   "execution_count": 3,
   "id": "64cb45eb",
   "metadata": {},
   "outputs": [],
   "source": [
    "from math import sin, cos"
   ]
  },
  {
   "cell_type": "code",
   "execution_count": 4,
   "id": "a6a7bee6",
   "metadata": {},
   "outputs": [
    {
     "name": "stdout",
     "output_type": "stream",
     "text": [
      "230 ns ± 58.1 ns per loop (mean ± std. dev. of 7 runs, 1000000 loops each)\n"
     ]
    }
   ],
   "source": [
    "%timeit sin(0.2)"
   ]
  },
  {
   "cell_type": "code",
   "execution_count": 5,
   "id": "eab49825",
   "metadata": {},
   "outputs": [
    {
     "name": "stdout",
     "output_type": "stream",
     "text": [
      "206 ns ± 29.9 ns per loop (mean ± std. dev. of 7 runs, 10000000 loops each)\n"
     ]
    }
   ],
   "source": [
    "%timeit cos(0.2)"
   ]
  },
  {
   "cell_type": "code",
   "execution_count": 6,
   "id": "5df88b88",
   "metadata": {},
   "outputs": [],
   "source": [
    "import numexpr\n",
    "import numpy"
   ]
  },
  {
   "cell_type": "code",
   "execution_count": 7,
   "id": "b718106f",
   "metadata": {},
   "outputs": [],
   "source": [
    "numexpr.set_num_threads(2)\n",
    "\n",
    "x = numpy.random.random((1000000, 1))\n",
    "y = numpy.random.random((1000000, 1))\n",
    "\n",
    "poly = numexpr.evaluate(\"((.25*x + .75)*x - 1.5)*x - 2\")"
   ]
  },
  {
   "cell_type": "code",
   "execution_count": 8,
   "id": "bd4646a6",
   "metadata": {},
   "outputs": [
    {
     "data": {
      "text/plain": [
       "array([[-2.23762644],\n",
       "       [-2.50466019],\n",
       "       [-2.52357466],\n",
       "       ...,\n",
       "       [-2.56639307],\n",
       "       [-2.46904589],\n",
       "       [-2.02311321]])"
      ]
     },
     "execution_count": 8,
     "metadata": {},
     "output_type": "execute_result"
    }
   ],
   "source": [
    "poly"
   ]
  }
 ],
 "metadata": {
  "kernelspec": {
   "display_name": "Python (dask)",
   "language": "python",
   "name": "dask-tutorial"
  },
  "language_info": {
   "codemirror_mode": {
    "name": "ipython",
    "version": 3
   },
   "file_extension": ".py",
   "mimetype": "text/x-python",
   "name": "python",
   "nbconvert_exporter": "python",
   "pygments_lexer": "ipython3",
   "version": "3.8.10"
  }
 },
 "nbformat": 4,
 "nbformat_minor": 5
}
