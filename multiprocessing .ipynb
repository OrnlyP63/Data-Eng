{
 "cells": [
  {
   "cell_type": "code",
   "execution_count": 1,
   "id": "134034ff",
   "metadata": {},
   "outputs": [],
   "source": [
    "import multiprocessing as mp"
   ]
  },
  {
   "cell_type": "code",
   "execution_count": 2,
   "id": "f39b8c12",
   "metadata": {},
   "outputs": [
    {
     "name": "stdout",
     "output_type": "stream",
     "text": [
      "สั่งงาน\n"
     ]
    }
   ],
   "source": [
    "#%%\n",
    "def job():\n",
    "    print('เริ่มทำงาน')\n",
    "    for i in range(1000000):\n",
    "        2**2\n",
    "    print('งานเสร็จแล้ว')\n",
    "\n",
    "#%%\n",
    "if __name__ ==  '__main__': \n",
    "    p = mp.Process(target=job)\n",
    "    p.start()\n",
    "    print('สั่งงาน')"
   ]
  },
  {
   "cell_type": "code",
   "execution_count": 3,
   "id": "7d455d66",
   "metadata": {},
   "outputs": [],
   "source": [
    "def job(a,b):\n",
    "    print(a+b)\n",
    "    return a+b"
   ]
  },
  {
   "cell_type": "code",
   "execution_count": 4,
   "id": "babd6fdf",
   "metadata": {},
   "outputs": [],
   "source": [
    "p = mp.Process(target=job,args=(1,2))\n",
    "p.start()"
   ]
  },
  {
   "cell_type": "code",
   "execution_count": 5,
   "id": "b64097cc",
   "metadata": {},
   "outputs": [],
   "source": [
    "def worker(procnum, return_dict):\n",
    "    \"\"\"worker function\"\"\"\n",
    "    print(str(procnum) + \" represent!\")\n",
    "    return_dict[procnum] = procnum"
   ]
  },
  {
   "cell_type": "code",
   "execution_count": 6,
   "id": "881fd74d",
   "metadata": {},
   "outputs": [
    {
     "name": "stdout",
     "output_type": "stream",
     "text": [
      "[]\n"
     ]
    }
   ],
   "source": [
    "manager = mp.Manager()\n",
    "return_dict = manager.dict()\n",
    "jobs = []\n",
    "\n",
    "for i in range(5):\n",
    "    p = mp.Process(target=worker, args=(i, return_dict))\n",
    "    jobs.append(p)\n",
    "    p.start()\n",
    "\n",
    "for proc in jobs:\n",
    "    proc.join()\n",
    "print(return_dict.values())"
   ]
  },
  {
   "cell_type": "code",
   "execution_count": null,
   "id": "5c16aafb",
   "metadata": {},
   "outputs": [],
   "source": []
  }
 ],
 "metadata": {
  "kernelspec": {
   "display_name": "Python (dask)",
   "language": "python",
   "name": "dask-tutorial"
  },
  "language_info": {
   "codemirror_mode": {
    "name": "ipython",
    "version": 3
   },
   "file_extension": ".py",
   "mimetype": "text/x-python",
   "name": "python",
   "nbconvert_exporter": "python",
   "pygments_lexer": "ipython3",
   "version": "3.8.10"
  }
 },
 "nbformat": 4,
 "nbformat_minor": 5
}
