{
 "cells": [
  {
   "cell_type": "code",
   "execution_count": 1,
   "id": "30ebae77",
   "metadata": {},
   "outputs": [],
   "source": [
    "import os\n",
    "import time\n",
    "import threading\n",
    "import multiprocessing"
   ]
  },
  {
   "cell_type": "code",
   "execution_count": 2,
   "id": "c56f5517",
   "metadata": {},
   "outputs": [],
   "source": [
    "NUM_WORKERS = 4"
   ]
  },
  {
   "cell_type": "code",
   "execution_count": 3,
   "id": "2cb85b6a",
   "metadata": {},
   "outputs": [],
   "source": [
    "def only_sleep():\n",
    "    '''Do nothing, wait for a timer to expire'''\n",
    "    print('PID: %s, Process Name: %s, Thread Name: %s' % (os.getpid(), multiprocessing.current_process().name, threading.current_thread().name))\n",
    "    time.sleep(1)\n",
    " \n",
    " \n",
    "def crunch_numbers():\n",
    "    '''Do some computations'''\n",
    "    print('PID: %s, Process Name: %s, Thread Name: %s' % (os.getpid(),multiprocessing.current_process().name,threading.current_thread().name))\n",
    "    x = 0\n",
    "    while x < 10000000:\n",
    "        x += 1"
   ]
  },
  {
   "cell_type": "code",
   "execution_count": 4,
   "id": "04a1fea7",
   "metadata": {},
   "outputs": [
    {
     "name": "stdout",
     "output_type": "stream",
     "text": [
      "PID: 7368, Process Name: MainProcess, Thread Name: MainThread\n",
      "PID: 7368, Process Name: MainProcess, Thread Name: MainThread\n",
      "PID: 7368, Process Name: MainProcess, Thread Name: MainThread\n",
      "PID: 7368, Process Name: MainProcess, Thread Name: MainThread\n",
      "Serial time= 4.042875051498413\n"
     ]
    }
   ],
   "source": [
    "## Run tasks serially\n",
    "start_time = time.time()\n",
    "for _ in range(NUM_WORKERS):\n",
    "    only_sleep()\n",
    "end_time = time.time()\n",
    " \n",
    "print(\"Serial time=\", end_time - start_time)"
   ]
  },
  {
   "cell_type": "code",
   "execution_count": 5,
   "id": "3c32dcd2",
   "metadata": {},
   "outputs": [
    {
     "name": "stdout",
     "output_type": "stream",
     "text": [
      "PID: 7368, Process Name: MainProcess, Thread Name: Thread-6\n",
      "PID: 7368, Process Name: MainProcess, Thread Name: Thread-7\n",
      "PID: 7368, Process Name: MainProcess, Thread Name: Thread-8\n",
      "PID: 7368, Process Name: MainProcess, Thread Name: Thread-9\n",
      "Threads time= 1.0318481922149658\n"
     ]
    }
   ],
   "source": [
    "# Run tasks using threads\n",
    "start_time = time.time()\n",
    "threads = [threading.Thread(target=only_sleep) for _ in range(NUM_WORKERS)]\n",
    "[thread.start() for thread in threads]\n",
    "[thread.join() for thread in threads]\n",
    "end_time = time.time()\n",
    "print(\"Threads time=\", end_time - start_time)"
   ]
  },
  {
   "cell_type": "code",
   "execution_count": 6,
   "id": "437e8629",
   "metadata": {},
   "outputs": [
    {
     "name": "stdout",
     "output_type": "stream",
     "text": [
      "Parallel time= 0.27225661277770996\n"
     ]
    }
   ],
   "source": [
    "# Run tasks using processes\n",
    "start_time = time.time()\n",
    "processes = [multiprocessing.Process(target=only_sleep) for _ in range(NUM_WORKERS)]\n",
    "[process.start() for process in processes]\n",
    "[process.join() for process in processes]\n",
    "end_time = time.time()\n",
    " \n",
    "print(\"Parallel time=\", end_time - start_time)"
   ]
  },
  {
   "cell_type": "code",
   "execution_count": 7,
   "id": "cee05193",
   "metadata": {},
   "outputs": [
    {
     "name": "stdout",
     "output_type": "stream",
     "text": [
      "PID: 7368, Process Name: MainProcess, Thread Name: MainThread\n",
      "PID: 7368, Process Name: MainProcess, Thread Name: MainThread\n",
      "PID: 7368, Process Name: MainProcess, Thread Name: MainThread\n",
      "PID: 7368, Process Name: MainProcess, Thread Name: MainThread\n",
      "Serial time= 6.638719797134399\n"
     ]
    }
   ],
   "source": [
    "start_time = time.time()\n",
    "for _ in range(NUM_WORKERS):\n",
    "    crunch_numbers()\n",
    "end_time = time.time()\n",
    " \n",
    "print(\"Serial time=\", end_time - start_time)"
   ]
  },
  {
   "cell_type": "code",
   "execution_count": 8,
   "id": "312bef37",
   "metadata": {},
   "outputs": [
    {
     "name": "stdout",
     "output_type": "stream",
     "text": [
      "PID: 7368, Process Name: MainProcess, Thread Name: Thread-10\n",
      "PID: 7368, Process Name: MainProcess, Thread Name: Thread-11\n",
      "PID: 7368, Process Name: MainProcess, Thread Name: Thread-12\n",
      "PID: 7368, Process Name: MainProcess, Thread Name: Thread-13\n",
      "Threads time= 7.602047443389893\n"
     ]
    }
   ],
   "source": [
    "start_time = time.time()\n",
    "threads = [threading.Thread(target=crunch_numbers) for _ in range(NUM_WORKERS)]\n",
    "[thread.start() for thread in threads]\n",
    "[thread.join() for thread in threads]\n",
    "end_time = time.time()\n",
    " \n",
    "print(\"Threads time=\", end_time - start_time)"
   ]
  },
  {
   "cell_type": "code",
   "execution_count": 9,
   "id": "0f7c18fb",
   "metadata": {},
   "outputs": [
    {
     "name": "stdout",
     "output_type": "stream",
     "text": [
      "Parallel time= 0.22900938987731934\n"
     ]
    }
   ],
   "source": [
    "start_time = time.time()\n",
    "processes = [multiprocessing.Process(target=crunch_numbers) for _ in range(NUM_WORKERS)]\n",
    "[process.start() for process in processes]\n",
    "[process.join() for process in processes]\n",
    "end_time = time.time()\n",
    " \n",
    "print(\"Parallel time=\", end_time - start_time)"
   ]
  },
  {
   "cell_type": "code",
   "execution_count": 10,
   "id": "66285659",
   "metadata": {},
   "outputs": [
    {
     "name": "stdout",
     "output_type": "stream",
     "text": [
      "[1, 1, 2, 2, 3, 4, 3, 5, 6, 7, 4, 8, 9, 5, 10, 6, 7, 8, 9, 10]\n",
      "Wall time: 313 ms\n"
     ]
    }
   ],
   "source": [
    "%%time\n",
    "ls = []\n",
    "def count(n):\n",
    "    for i in range(1, n+1):\n",
    "        ls.append(i)\n",
    "        time.sleep(0.01)\n",
    "\n",
    "def count2(n):\n",
    "    for i in range(1, n+1):\n",
    "        ls.append(i)\n",
    "        time.sleep(0.02)\n",
    "        \n",
    "\n",
    "x = threading.Thread(target=count, args=(10,))\n",
    "x.start()\n",
    "\n",
    "\n",
    "y = threading.Thread(target=count2, args=(10,))\n",
    "y.start()\n",
    "\n",
    "x.join()\n",
    "y.join()\n",
    "\n",
    "print(ls)"
   ]
  },
  {
   "cell_type": "code",
   "execution_count": 11,
   "id": "d3502e0b",
   "metadata": {},
   "outputs": [],
   "source": [
    "import asyncio\n",
    "loop = asyncio.get_event_loop()"
   ]
  },
  {
   "cell_type": "code",
   "execution_count": 12,
   "id": "39f0fbbb",
   "metadata": {},
   "outputs": [
    {
     "name": "stdout",
     "output_type": "stream",
     "text": [
      "[1, 1, 2, 2, 3, 3, 4, 4, 5, 5, 6, 6, 7, 7, 8, 8, 9, 9]\n"
     ]
    }
   ],
   "source": [
    "ls = []\n",
    "\n",
    "async def count():\n",
    "    for i in range(1, 10):\n",
    "        ls.append(i)\n",
    "        \n",
    "        await asyncio.sleep(0.01)\n",
    "\n",
    "async def count2():\n",
    "    for i in range(1, 10):\n",
    "        ls.append(i)\n",
    "       \n",
    "        await asyncio.sleep(0.01)\n",
    "\n",
    "#asyncio.gather(count(10), count2(10))\n",
    "\n",
    "# loop.create_task(count(10))\n",
    "# loop.create_task(count2(10))\n",
    "\n",
    "async def main():\n",
    "    await asyncio.gather(count(), count2())\n",
    "\n",
    "await main()\n",
    "print(ls)"
   ]
  },
  {
   "cell_type": "code",
   "execution_count": null,
   "id": "d43d2882",
   "metadata": {},
   "outputs": [],
   "source": []
  }
 ],
 "metadata": {
  "kernelspec": {
   "display_name": "Python (dask)",
   "language": "python",
   "name": "dask-tutorial"
  },
  "language_info": {
   "codemirror_mode": {
    "name": "ipython",
    "version": 3
   },
   "file_extension": ".py",
   "mimetype": "text/x-python",
   "name": "python",
   "nbconvert_exporter": "python",
   "pygments_lexer": "ipython3",
   "version": "3.8.10"
  }
 },
 "nbformat": 4,
 "nbformat_minor": 5
}
