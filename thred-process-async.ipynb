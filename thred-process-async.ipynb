{
 "cells": [
  {
   "cell_type": "code",
   "execution_count": 1,
   "id": "d114fda3",
   "metadata": {},
   "outputs": [],
   "source": [
    "import os\n",
    "import time\n",
    "import threading\n",
    "import multiprocessing"
   ]
  },
  {
   "cell_type": "code",
   "execution_count": 2,
   "id": "054a4970",
   "metadata": {},
   "outputs": [],
   "source": [
    "NUM_WORKERS = 4"
   ]
  },
  {
   "cell_type": "code",
   "execution_count": 3,
   "id": "812fbdcd",
   "metadata": {},
   "outputs": [],
   "source": [
    "def only_sleep():\n",
    "    '''Do nothing, wait for a timer to expire'''\n",
    "    print('PID: %s, Process Name: %s, Thread Name: %s' % (os.getpid(), multiprocessing.current_process().name, threading.current_thread().name))\n",
    "    time.sleep(1)\n",
    " \n",
    " \n",
    "def crunch_numbers():\n",
    "    '''Do some computations'''\n",
    "    print('PID: %s, Process Name: %s, Thread Name: %s' % (os.getpid(),multiprocessing.current_process().name,threading.current_thread().name))\n",
    "    x = 0\n",
    "    while x < 10000000:\n",
    "        x += 1"
   ]
  },
  {
   "cell_type": "code",
   "execution_count": 4,
   "id": "f2de3b77",
   "metadata": {},
   "outputs": [
    {
     "name": "stdout",
     "output_type": "stream",
     "text": [
      "PID: 14436, Process Name: MainProcess, Thread Name: MainThread\n",
      "PID: 14436, Process Name: MainProcess, Thread Name: MainThread\n",
      "PID: 14436, Process Name: MainProcess, Thread Name: MainThread\n",
      "PID: 14436, Process Name: MainProcess, Thread Name: MainThread\n",
      "Serial time= 4.033903121948242\n"
     ]
    }
   ],
   "source": [
    "## Run tasks serially\n",
    "start_time = time.time()\n",
    "for _ in range(NUM_WORKERS):\n",
    "    only_sleep()\n",
    "end_time = time.time()\n",
    " \n",
    "print(\"Serial time=\", end_time - start_time)"
   ]
  },
  {
   "cell_type": "code",
   "execution_count": 5,
   "id": "f8a84c9b",
   "metadata": {},
   "outputs": [
    {
     "name": "stdout",
     "output_type": "stream",
     "text": [
      "PID: 14436, Process Name: MainProcess, Thread Name: Thread-6\n",
      "PID: 14436, Process Name: MainProcess, Thread Name: Thread-7\n",
      "PID: 14436, Process Name: MainProcess, Thread Name: Thread-8\n",
      "PID: 14436, Process Name: MainProcess, Thread Name: Thread-9\n",
      "Threads time= 1.0295541286468506\n"
     ]
    }
   ],
   "source": [
    "# Run tasks using threads\n",
    "start_time = time.time()\n",
    "threads = [threading.Thread(target=only_sleep) for _ in range(NUM_WORKERS)]\n",
    "[thread.start() for thread in threads]\n",
    "[thread.join() for thread in threads]\n",
    "end_time = time.time()\n",
    "print(\"Threads time=\", end_time - start_time)"
   ]
  },
  {
   "cell_type": "code",
   "execution_count": 6,
   "id": "7d9e5f2d",
   "metadata": {},
   "outputs": [
    {
     "name": "stdout",
     "output_type": "stream",
     "text": [
      "Parallel time= 0.2070159912109375\n"
     ]
    }
   ],
   "source": [
    "# Run tasks using processes\n",
    "start_time = time.time()\n",
    "processes = [multiprocessing.Process(target=only_sleep) for _ in range(NUM_WORKERS)]\n",
    "[process.start() for process in processes]\n",
    "[process.join() for process in processes]\n",
    "end_time = time.time()\n",
    " \n",
    "print(\"Parallel time=\", end_time - start_time)"
   ]
  },
  {
   "cell_type": "code",
   "execution_count": 7,
   "id": "0a8e4bb6",
   "metadata": {},
   "outputs": [
    {
     "name": "stdout",
     "output_type": "stream",
     "text": [
      "PID: 14436, Process Name: MainProcess, Thread Name: MainThread\n",
      "PID: 14436, Process Name: MainProcess, Thread Name: MainThread\n",
      "PID: 14436, Process Name: MainProcess, Thread Name: MainThread\n",
      "PID: 14436, Process Name: MainProcess, Thread Name: MainThread\n",
      "Serial time= 4.3767311573028564\n"
     ]
    }
   ],
   "source": [
    "start_time = time.time()\n",
    "for _ in range(NUM_WORKERS):\n",
    "    crunch_numbers()\n",
    "end_time = time.time()\n",
    " \n",
    "print(\"Serial time=\", end_time - start_time)"
   ]
  },
  {
   "cell_type": "code",
   "execution_count": 8,
   "id": "209abe69",
   "metadata": {},
   "outputs": [
    {
     "name": "stdout",
     "output_type": "stream",
     "text": [
      "PID: 14436, Process Name: MainProcess, Thread Name: Thread-10\n",
      "PID: 14436, Process Name: MainProcess, Thread Name: Thread-11\n",
      "PID: 14436, Process Name: MainProcess, Thread Name: Thread-12\n",
      "PID: 14436, Process Name: MainProcess, Thread Name: Thread-13\n",
      "Threads time= 5.345181226730347\n"
     ]
    }
   ],
   "source": [
    "start_time = time.time()\n",
    "threads = [threading.Thread(target=crunch_numbers) for _ in range(NUM_WORKERS)]\n",
    "[thread.start() for thread in threads]\n",
    "[thread.join() for thread in threads]\n",
    "end_time = time.time()\n",
    " \n",
    "print(\"Threads time=\", end_time - start_time)"
   ]
  },
  {
   "cell_type": "code",
   "execution_count": 9,
   "id": "3d459b2b",
   "metadata": {},
   "outputs": [
    {
     "name": "stdout",
     "output_type": "stream",
     "text": [
      "Parallel time= 0.21001338958740234\n"
     ]
    }
   ],
   "source": [
    "start_time = time.time()\n",
    "processes = [multiprocessing.Process(target=crunch_numbers) for _ in range(NUM_WORKERS)]\n",
    "[process.start() for process in processes]\n",
    "[process.join() for process in processes]\n",
    "end_time = time.time()\n",
    " \n",
    "print(\"Parallel time=\", end_time - start_time)"
   ]
  },
  {
   "cell_type": "code",
   "execution_count": 10,
   "id": "ce5090a3",
   "metadata": {},
   "outputs": [
    {
     "name": "stdout",
     "output_type": "stream",
     "text": [
      "[1, 1, 2, 2, 3, 4, 3, 5, 4, 6, 7, 8, 5, 9, 10, 6, 7, 8, 9, 10]\n",
      "Wall time: 298 ms\n"
     ]
    }
   ],
   "source": [
    "%%time\n",
    "ls = []\n",
    "def count(n):\n",
    "    for i in range(1, n+1):\n",
    "        ls.append(i)\n",
    "        time.sleep(0.01)\n",
    "\n",
    "def count2(n):\n",
    "    for i in range(1, n+1):\n",
    "        ls.append(i)\n",
    "        time.sleep(0.02)\n",
    "        \n",
    "\n",
    "x = threading.Thread(target=count, args=(10,))\n",
    "x.start()\n",
    "\n",
    "\n",
    "y = threading.Thread(target=count2, args=(10,))\n",
    "y.start()\n",
    "\n",
    "x.join()\n",
    "y.join()\n",
    "\n",
    "print(ls)"
   ]
  },
  {
   "cell_type": "code",
   "execution_count": 11,
   "id": "5f542911",
   "metadata": {},
   "outputs": [],
   "source": [
    "import asyncio\n",
    "loop = asyncio.get_event_loop()"
   ]
  },
  {
   "cell_type": "code",
   "execution_count": 12,
   "id": "46494362",
   "metadata": {},
   "outputs": [
    {
     "name": "stdout",
     "output_type": "stream",
     "text": [
      "Wall time: 0 ns\n"
     ]
    }
   ],
   "source": [
    "%%time\n",
    "ls = []\n",
    "\n",
    "async def count():\n",
    "    for i in range(1, 10):\n",
    "        ls.append(i)\n",
    "        \n",
    "        await asyncio.sleep(0.01)\n",
    "\n",
    "async def count2():\n",
    "    for i in range(1, 10):\n",
    "        ls.append(i)\n",
    "       \n",
    "        await asyncio.sleep(0.01)\n",
    "\n",
    "#asyncio.gather(count(10), count2(10))\n",
    "\n",
    "# loop.create_task(count(10))\n",
    "# loop.create_task(count2(10))\n",
    "\n",
    "async def main():\n",
    "    await asyncio.gather(count(), count2())"
   ]
  },
  {
   "cell_type": "code",
   "execution_count": 13,
   "id": "03b4e0c9",
   "metadata": {},
   "outputs": [
    {
     "name": "stdout",
     "output_type": "stream",
     "text": [
      "[1, 1, 2, 2, 3, 3, 4, 4, 5, 5, 6, 6, 7, 7, 8, 8, 9, 9]\n"
     ]
    }
   ],
   "source": [
    "await main()\n",
    "print(ls)"
   ]
  }
 ],
 "metadata": {
  "kernelspec": {
   "display_name": "Python (dask)",
   "language": "python",
   "name": "dask-tutorial"
  },
  "language_info": {
   "codemirror_mode": {
    "name": "ipython",
    "version": 3
   },
   "file_extension": ".py",
   "mimetype": "text/x-python",
   "name": "python",
   "nbconvert_exporter": "python",
   "pygments_lexer": "ipython3",
   "version": "3.8.10"
  }
 },
 "nbformat": 4,
 "nbformat_minor": 5
}
